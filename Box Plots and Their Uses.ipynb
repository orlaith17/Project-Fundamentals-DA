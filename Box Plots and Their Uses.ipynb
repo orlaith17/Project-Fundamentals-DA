{
 "cells": [
  {
   "cell_type": "markdown",
   "metadata": {},
   "source": [
    "matplotlib.pyplot.boxplot\n",
    "\n",
    "Some Implementations of the Boxplot:\n",
    "An increasing number of statistical software packages offer exploratory data displays and summaries. For one of these, the graphical technique known as the boxplot, a selective survey of popular software packages revealed several definitions. These alternative constructions arise from different choices in computing quartiles and the fences that determine whether an observation is “outside” and thus plotted individually. We examine these alternatives and their consequences, discuss related background for boxplots (such as the probability that a sample contains one or more outside observations and the average proportion of outside observations in a sample), and offer recommendations that lead to a single standard form of the boxplot.\n",
    "\n",
    "\n",
    "box percentile plot????\n",
    "\n",
    "http://alpha.imag.pub.ro/~rasche/course/patrec/patrec1.pdf: The next step would be to observe simple descriptive statistics, for example by\n",
    "calculating the mean, standard deviation, range, etc. The command boxplot plots some of those values\n",
    "Figure 11: Box plot for the four features (variables) of the\n",
    "famous Iris flower data set. From center to outside: the\n",
    "red marker denotes the median; the edges of the blue box\n",
    "delineate the 25th and 75th percentile; the black markers\n",
    "denote the range without outliers; red plus markers denote\n",
    "points considered outliers. Matlab: boxplot. Python:\n",
    "matplotlib.pyplot.boxplot.\n",
    "Note that the ’spread’ of the data can be very different:\n",
    "the 2nd and 3rd features have very different ranges. That\n",
    "means we might night scaling, otherwise the petal length\n",
    "(3rd feature) might dominate classification.\n",
    "\n",
    "https://www150.statcan.gc.ca/n1/edu/power-pouvoir/ch12/5214889-eng.htm\n",
    "\n",
    "Boxplot is probably one of the most common type of graphic. It gives a nice summary of one or several numeric variables. The line that divides the box into 2 parts represents the median\n",
    "\n",
    "of the data. The end of the box shows the upper and lower quartiles. The extreme lines shows the highest and lowest value excluding outliers. Note that boxplot hide the number of values\n",
    "\n",
    "existing behind the variable. Thus, it is highly advised to print the number of observation, add unique observation with jitter or use a violinplot if you have many observations.\n",
    "\n",
    "A boxplot summarizes the distribution of a numerical variable for one or several groups. Thus, it hides the underlying distribution and the number of points of each group. That makes this chart dangerous. This post gives an example of possible mistake, and 3 solutions to fix it."
   ]
  },
  {
   "cell_type": "markdown",
   "metadata": {},
   "source": [
    "# Box Plots and Their Uses\n",
    "\n",
    "The box plot is common in data analysis for investigating individual numerical variables.\n",
    "In this project, you will investigate and explain box plots and their uses. The boxplot\n",
    "function from the Python package matplotlib.pyplot can be used to create box plots.\n",
    "Your submission should be in the form of a repository containing a Jupyter notebook in\n",
    "which you detail your findings. In your notebook, you should:\n",
    "1. Summarise the history of the box plot and situations in which it used.\n",
    "2. Demonstrate the use of the box plot using data of your choosing.\n",
    "3. Explain any relevant terminology such as the terms quartile and percentile.\n",
    "4. Compare the box plot to alternatives."
   ]
  },
  {
   "cell_type": "markdown",
   "metadata": {},
   "source": [
    "# 1. History of the Box Plot and Situations in which it used\n",
    "\n",
    "They are different, but not different enough to matter -- like the maple leaves off the tree in my yard, when all I want to do is rake them up.\n",
    "Roald Hoffmann, 1981 Nobel Laureate in Chemistry \n",
    "from: The Same and Not the Same\n",
    "\n",
    "http://www.physics.csbsju.edu/stats/box2.html\n",
    "https://en.wikipedia.org/wiki/Five-number_summary\n",
    "\n",
    "“A box plot is a graphical rendition of statistical data based on the minimum, first quartile, median, third quartile, and maximum. The term “box plot” comes from the fact that the graph looks like a rectangle with lines extending from the top and bottom. Because of the extending lines, this type of graph is sometimes called a box-and-whisker plot.”\n",
    "https://happygostacie.wordpress.com/2016/04/24/boxplot-fun-with-python/"
   ]
  },
  {
   "cell_type": "markdown",
   "metadata": {},
   "source": [
    "# 2. Uses of the Box Plot Using the Iris Data Set"
   ]
  },
  {
   "cell_type": "markdown",
   "metadata": {},
   "source": [
    "http://blog.bharatbhole.com/creating-boxplots-with-matplotlib/\n",
    "http://blog.bharatbhole.com/creating-boxplots-with-matplotlib/\n",
    "https://plot.ly/matplotlib/box-plots/\n",
    "https://stackoverflow.com/questions/44119653/creating-a-boxplot-with-matplotlib\n",
    "https://matplotlib.org/gallery/statistics/boxplot_demo.html\n",
    "https://matplotlib.org/examples/pylab_examples/boxplot_demo.html"
   ]
  },
  {
   "cell_type": "markdown",
   "metadata": {},
   "source": [
    "![nnn](http://www.lac.inpe.br/~rafael.santos/Docs/R/CAP394/resources/interpret_boxplots.png)\n",
    "![mmm](https://shanelynnwebsite-mid9n9g1q9y8tt.netdna-ssl.com/wp-content/uploads/2016/07/boxplot_tableau.png)\n",
    "![ooo](https://pics.me.me/%3Cp%3E%3Ca-href-http-memehumor-tumblr-com-post-157195048483-box-plot-class-tumblr-blog%3Ememehumor%3C-a%3E-%3C-p%3E-%3Cblockquote%3E%3Cp%3Ebox-plot%3C-p%3E%3C-blockquote%3E-33514059.png)"
   ]
  },
  {
   "cell_type": "code",
   "execution_count": 68,
   "metadata": {},
   "outputs": [],
   "source": [
    "# Import numpy as np\n",
    "import numpy as np\n",
    "\n",
    "# import matplot\n",
    "import matplotlib.pyplot as plt\n",
    "\n",
    "#Use the 'inline' backend, so that the matplotlib graphs are included in notebook, next to the code\n",
    "%matplotlib inline\n",
    "\n",
    "# Import pandas\n",
    "import pandas as pd\n",
    "\n",
    "# import seaborn \n",
    "import seaborn as sns"
   ]
  },
  {
   "cell_type": "code",
   "execution_count": 69,
   "metadata": {},
   "outputs": [],
   "source": [
    "# Load the iris data set from a URL.\n",
    "df = pd.read_csv(\"https://raw.githubusercontent.com/uiuc-cse/data-fa14/gh-pages/data/iris.csv\")"
   ]
  },
  {
   "cell_type": "code",
   "execution_count": 70,
   "metadata": {},
   "outputs": [
    {
     "data": {
      "text/html": [
       "<div>\n",
       "<style scoped>\n",
       "    .dataframe tbody tr th:only-of-type {\n",
       "        vertical-align: middle;\n",
       "    }\n",
       "\n",
       "    .dataframe tbody tr th {\n",
       "        vertical-align: top;\n",
       "    }\n",
       "\n",
       "    .dataframe thead th {\n",
       "        text-align: right;\n",
       "    }\n",
       "</style>\n",
       "<table border=\"1\" class=\"dataframe\">\n",
       "  <thead>\n",
       "    <tr style=\"text-align: right;\">\n",
       "      <th></th>\n",
       "      <th>sepal_length</th>\n",
       "      <th>sepal_width</th>\n",
       "      <th>petal_length</th>\n",
       "      <th>petal_width</th>\n",
       "      <th>species</th>\n",
       "    </tr>\n",
       "  </thead>\n",
       "  <tbody>\n",
       "    <tr>\n",
       "      <th>0</th>\n",
       "      <td>5.1</td>\n",
       "      <td>3.5</td>\n",
       "      <td>1.4</td>\n",
       "      <td>0.2</td>\n",
       "      <td>setosa</td>\n",
       "    </tr>\n",
       "    <tr>\n",
       "      <th>1</th>\n",
       "      <td>4.9</td>\n",
       "      <td>3.0</td>\n",
       "      <td>1.4</td>\n",
       "      <td>0.2</td>\n",
       "      <td>setosa</td>\n",
       "    </tr>\n",
       "    <tr>\n",
       "      <th>2</th>\n",
       "      <td>4.7</td>\n",
       "      <td>3.2</td>\n",
       "      <td>1.3</td>\n",
       "      <td>0.2</td>\n",
       "      <td>setosa</td>\n",
       "    </tr>\n",
       "    <tr>\n",
       "      <th>3</th>\n",
       "      <td>4.6</td>\n",
       "      <td>3.1</td>\n",
       "      <td>1.5</td>\n",
       "      <td>0.2</td>\n",
       "      <td>setosa</td>\n",
       "    </tr>\n",
       "    <tr>\n",
       "      <th>4</th>\n",
       "      <td>5.0</td>\n",
       "      <td>3.6</td>\n",
       "      <td>1.4</td>\n",
       "      <td>0.2</td>\n",
       "      <td>setosa</td>\n",
       "    </tr>\n",
       "  </tbody>\n",
       "</table>\n",
       "</div>"
      ],
      "text/plain": [
       "   sepal_length  sepal_width  petal_length  petal_width species\n",
       "0           5.1          3.5           1.4          0.2  setosa\n",
       "1           4.9          3.0           1.4          0.2  setosa\n",
       "2           4.7          3.2           1.3          0.2  setosa\n",
       "3           4.6          3.1           1.5          0.2  setosa\n",
       "4           5.0          3.6           1.4          0.2  setosa"
      ]
     },
     "execution_count": 70,
     "metadata": {},
     "output_type": "execute_result"
    }
   ],
   "source": [
    "# check if the link works\n",
    "# prints the first few rows of the iris data set\n",
    "df.head()"
   ]
  },
  {
   "cell_type": "code",
   "execution_count": 87,
   "metadata": {},
   "outputs": [
    {
     "name": "stderr",
     "output_type": "stream",
     "text": [
      "C:\\Users\\user\\Anaconda3\\lib\\site-packages\\scipy\\stats\\stats.py:1713: FutureWarning: Using a non-tuple sequence for multidimensional indexing is deprecated; use `arr[tuple(seq)]` instead of `arr[seq]`. In the future this will be interpreted as an array index, `arr[np.array(seq)]`, which will result either in an error or a different result.\n",
      "  return np.add.reduce(sorted[indexer] * weights, axis=axis) / sumval\n"
     ]
    },
    {
     "data": {
      "text/plain": [
       "[Text(0.5,0,'')]"
      ]
     },
     "execution_count": 87,
     "metadata": {},
     "output_type": "execute_result"
    },
    {
     "data": {
      "image/png": "[encoded data removed]",
      "text/plain": [
       "<Figure size 432x288 with 2 Axes>"
      ]
     },
     "metadata": {
      "needs_background": "light"
     },
     "output_type": "display_data"
    }
   ],
   "source": [
    "# https://python-graph-gallery.com/24-histogram-with-a-boxplot-on-top-seaborn/\n",
    "# Cut the window in 2 parts\n",
    "f, (ax_box, ax_hist) = plt.subplots(2, sharex=True, gridspec_kw={\"height_ratios\": (.15, .85)})\n",
    " \n",
    "# Add a graph in each part\n",
    "sns.boxplot(df[\"sepal_length\"], ax=ax_box)\n",
    "sns.distplot(df[\"sepal_length\"], ax=ax_hist)\n",
    " \n",
    "# Remove x axis name for the boxplot\n",
    "ax_box.set(xlabel='')\n"
   ]
  },
  {
   "cell_type": "code",
   "execution_count": 72,
   "metadata": {},
   "outputs": [
    {
     "data": {
      "text/plain": [
       "<matplotlib.axes._subplots.AxesSubplot at 0x986e358>"
      ]
     },
     "execution_count": 72,
     "metadata": {},
     "output_type": "execute_result"
    },
    {
     "data": {
      "image/png": "[encoded data removed]",
      "text/plain": [
       "<Figure size 432x288 with 1 Axes>"
      ]
     },
     "metadata": {
      "needs_background": "light"
     },
     "output_type": "display_data"
    }
   ],
   "source": [
    "df.boxplot(column='petal_width', by='species')\n"
   ]
  },
  {
   "cell_type": "code",
   "execution_count": 77,
   "metadata": {},
   "outputs": [
    {
     "data": {
      "image/png": "[encoded data removed]",
      "text/plain": [
       "<Figure size 432x288 with 1 Axes>"
      ]
     },
     "metadata": {
      "needs_background": "light"
     },
     "output_type": "display_data"
    }
   ],
   "source": [
    "plt.boxplot(df[\"sepal_length\"])\n",
    "plt.show()"
   ]
  },
  {
   "cell_type": "code",
   "execution_count": null,
   "metadata": {},
   "outputs": [],
   "source": [
    "# check the number of species to see how many box plots you would expect using species\n",
    "df['species'].value_counts()"
   ]
  },
  {
   "cell_type": "code",
   "execution_count": null,
   "metadata": {},
   "outputs": [],
   "source": [
    "# To plot the species data using a box plot:\n",
    "\n",
    "sns.boxplot(x=\"species\", y=\"petal_length\", data=df )\n",
    "plt.show()\n",
    "\n"
   ]
  },
  {
   "cell_type": "code",
   "execution_count": null,
   "metadata": {},
   "outputs": [],
   "source": [
    "#get slice of data to use in boxplot\n",
    "slice = df.iloc[:,[0, 4]]"
   ]
  },
  {
   "cell_type": "code",
   "execution_count": null,
   "metadata": {},
   "outputs": [],
   "source": [
    "slice.head()"
   ]
  },
  {
   "cell_type": "code",
   "execution_count": null,
   "metadata": {},
   "outputs": [],
   "source": [
    "#gives individual boxplot with all step names\n",
    "bp = df.boxplot(column='species', by='sepal_length')\n",
    "axes = plt.gca()\n",
    "axes.set_ylim([0,15])\n",
    "plt.show()"
   ]
  },
  {
   "cell_type": "markdown",
   "metadata": {},
   "source": [
    "Plot X versus Y for the 4no. types of datasets. \n",
    "Also plot the linear regression for each dataset to make conclusions on the line of best fit versus the actual figures of the dataset"
   ]
  },
  {
   "cell_type": "code",
   "execution_count": null,
   "metadata": {},
   "outputs": [],
   "source": [
    "# The data set can also be loaded directly Load the example dataset for Anscombe's quartet for seaborn\n",
    "df = sns.load_dataset(\"anscombe\")\n",
    "\n",
    "sns.set(style=\"whitegrid\")\n",
    "\n",
    "# Show the results of a linear regression within each dataset\n",
    "sns.lmplot(x=\"x\", y=\"y\", col=\"dataset\", hue=\"dataset\", data=df,\n",
    "           col_wrap=2, ci=None, palette=\"muted\", height=4,\n",
    "           scatter_kws={\"s\": 50, \"alpha\": 1})\n",
    "plt.show()"
   ]
  },
  {
   "cell_type": "markdown",
   "metadata": {},
   "source": [
    "The dataset can also be loaded directly into Seaborn. Below are adjusted graphics / alternative representation of the datasets. "
   ]
  },
  {
   "cell_type": "code",
   "execution_count": null,
   "metadata": {},
   "outputs": [],
   "source": [
    "# Seaborn conveniently provides the data for Anscombe's quartet.\n",
    "df = sns.load_dataset(\"anscombe\")\n",
    "dset = df.dataset.unique()\n",
    "\n",
    "# Computing basic stats and linear regression all groups.\n",
    "for data in dset:\n",
    "    tmp = df.loc[df.dataset == data]\n",
    "\n",
    "\n",
    "# Setting up params for graphic\n",
    "sns.set(style=\"white\")\n",
    "sns.set_context(\"talk\")\n",
    "sns.despine(left=True)\n",
    "\n",
    "# Plotting\n",
    "catcher = sns.lmplot(\"x\", \"y\", col=\"dataset\", hue=\"dataset\", data=df,\n",
    "           col_wrap=2, ci=None, palette=\"husl\", height=4,\n",
    "           scatter_kws={\"s\": 50, \"alpha\": 0.7}, aspect=1.5)\n",
    "\n",
    "sns.despine()\n",
    "\n",
    "# Saving graphic\n",
    "plt.savefig('quartet.png')"
   ]
  },
  {
   "cell_type": "markdown",
   "metadata": {},
   "source": [
    "### Examining the 4 Datasets\n",
    "\n",
    "- Dataset 1: appears to be a simple linear relationship, corresponding to two variables correlated and following the assumption of normality.\n",
    "- Dataset 2 is not distributed normally; while a relationship between the two variables is obvious, it is not linear. \n",
    "- Dataset 3: the distribution is linear, but should have a different regression line. An outlier has changed what would have been the correlation coefficient. \n",
    "- Dataset 4: shows an example when one outlier is enough to produce a high correlation coefficient, even though there appears to be a constant x values with varying y values for most values. "
   ]
  },
  {
   "cell_type": "markdown",
   "metadata": {},
   "source": [
    "# 3. Terminology"
   ]
  },
  {
   "cell_type": "markdown",
   "metadata": {},
   "source": [
    "## Five Number Summary:\n",
    "Is a set of descriptive statistics that provide information about a dataset. It consists of the five most important sample percentiles:\n",
    "\n",
    "a boxplot is a visual display of a five number summary"
   ]
  },
  {
   "cell_type": "markdown",
   "metadata": {},
   "source": [
    "## Minimum:\n",
    "sample minimum\n",
    "small observation"
   ]
  },
  {
   "cell_type": "markdown",
   "metadata": {},
   "source": [
    "## First Quartile:\n",
    "lower quartile"
   ]
  },
  {
   "cell_type": "markdown",
   "metadata": {},
   "source": [
    "## Median:\n",
    "middle value"
   ]
  },
  {
   "cell_type": "markdown",
   "metadata": {},
   "source": [
    "## Third Quartile:\n",
    "upper quartile"
   ]
  },
  {
   "cell_type": "markdown",
   "metadata": {},
   "source": [
    "## Maximum:\n",
    "sample maximum \n",
    "largest observation"
   ]
  },
  {
   "cell_type": "markdown",
   "metadata": {},
   "source": [
    "## Interquartile Range"
   ]
  },
  {
   "cell_type": "markdown",
   "metadata": {},
   "source": [
    "## Outlier"
   ]
  },
  {
   "cell_type": "markdown",
   "metadata": {},
   "source": [
    "## Univariate: \n",
    "Refers to an expression, equation, function or polynomial of only one variable\n",
    "\n",
    "\n",
    "that can be measured on an ordinal, interval or ratio scale"
   ]
  },
  {
   "cell_type": "code",
   "execution_count": null,
   "metadata": {},
   "outputs": [],
   "source": [
    "# describe what is going on across all datasets for x and y\n",
    "df.describe()"
   ]
  },
  {
   "cell_type": "code",
   "execution_count": null,
   "metadata": {},
   "outputs": [],
   "source": [
    "# describe what is going on in each dataset for x and y\n",
    "df.groupby(\"dataset\").describe()"
   ]
  },
  {
   "cell_type": "markdown",
   "metadata": {},
   "source": [
    "Each dataset has the same mean, median, standard deviation, and correlation coefficient between x and y."
   ]
  },
  {
   "cell_type": "markdown",
   "metadata": {},
   "source": [
    "# 4. Comparing the Box Plot to Other Plots"
   ]
  },
  {
   "cell_type": "markdown",
   "metadata": {},
   "source": [
    "https://www.forbes.com/sites/naomirobbins/2012/01/10/comparing-distributions-with-box-plots/\n",
    "\n",
    "https://www.forbes.com/sites/naomirobbins/2012/01/10/comparing-distributions-with-box-plots/#351694062c2c\n",
    "\n",
    "histogram, violin, density"
   ]
  },
  {
   "cell_type": "markdown",
   "metadata": {},
   "source": [
    "The descriptive statistics of the variables in the dataset show that for any one of the four given datasets: \n",
    "- The x and y values as well as the models appear to be identical\n",
    "- The mean of all x values is 9 \n",
    "- The standard deviation of all x values is 3.316625\n",
    "- The mean of all y values is 7.5\n",
    "- The standard deviation of all y values is 2.03. \n",
    "- The correlation between x and y in all four pairs is 0.816 and the linaer regression equations are all y = 3 + 0.5x.\n",
    "\n",
    "This would suggest that the sets are similar, however, when we examine the plots (as described in Section 2), we can see that the four plots of x and y are very different. \n",
    "\n",
    "Anscombe’s Quartet shows:\n",
    "- The importance of data visualisation in data analysis. Without data visualization, statistics alone could be misleading. \n",
    "- How data visualisation can help up make initial judgements on relationships between variables before conducting statistic calculations\n",
    "- The effect of outliers on statistical properties\n",
    "\n",
    "Ancombe felt that a computer should make both calculations and graphs. Both sorts of output should be studied; each will contribute to understanding.\n",
    " \n"
   ]
  },
  {
   "cell_type": "markdown",
   "metadata": {},
   "source": [
    "# References \n",
    "\n",
    "https://matplotlib.org/api/_as_gen/matplotlib.pyplot.boxplot.html\n",
    "***\n",
    "https://en.wikipedia.org/wiki/Box_plot\n",
    "***\n",
    "https://stat.ethz.ch/R-manual/R-devel/library/grDevices/html/boxplot.stats.html\n",
    "***\n",
    "https://www.tandfonline.com/doi/abs/10.1080/00031305.1989.10475612\n",
    "***\n",
    "http://vita.had.co.nz/papers/boxplots.pdf\n",
    "***\n",
    "https://matplotlib.org/gallery/statistics/boxplot_demo.html\n",
    "***\n",
    "https://matplotlib.org/examples/pylab_examples/boxplot_demo.html\n",
    "***\n",
    "http://www.physics.csbsju.edu/stats/box2.html\n",
    "***\n",
    "https://en.wikipedia.org/wiki/Five-number_summary\n",
    "***\n",
    "https://www.itl.nist.gov/div898/handbook/eda/section3/boxplot.htm\n",
    "***\n",
    "https://happygostacie.wordpress.com/2016/04/24/boxplot-fun-with-python/\n",
    "***\n",
    "https://digibio.blogspot.com/2016/09/box-plots-and-connect-by-median.html\n",
    "***\n",
    "https://www.kaggle.com/kmuvunyi/iris-data-visualization\n",
    "***\n",
    "http://python-graph-gallery.com/boxplot/"
   ]
  },
  {
   "cell_type": "markdown",
   "metadata": {},
   "source": [
    "# End"
   ]
  }
 ],
 "metadata": {
  "kernelspec": {
   "display_name": "Python 3",
   "language": "python",
   "name": "python3"
  },
  "language_info": {
   "codemirror_mode": {
    "name": "ipython",
    "version": 3
   },
   "file_extension": ".py",
   "mimetype": "text/x-python",
   "name": "python",
   "nbconvert_exporter": "python",
   "pygments_lexer": "ipython3",
   "version": "3.7.0"
  }
 },
 "nbformat": 4,
 "nbformat_minor": 2
}
