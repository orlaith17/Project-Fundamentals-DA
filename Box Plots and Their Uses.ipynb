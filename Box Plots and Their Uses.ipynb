{
 "cells": [
  {
   "cell_type": "markdown",
   "metadata": {},
   "source": [
    "# Box Plots and Their Uses\n",
    "\n",
    "The box plot is common in data analysis for investigating individual numerical variables.\n",
    "In this project, you will investigate and explain box plots and their uses. The boxplot\n",
    "function from the Python package matplotlib.pyplot can be used to create box plots.\n",
    "Your submission should be in the form of a repository containing a Jupyter notebook in\n",
    "which you detail your findings. In your notebook, you should:\n",
    "1. Summarise the history of the box plot and situations in which it is used.\n",
    "2. Demonstrate the use of the box plot using data of your choosing.\n",
    "3. Explain any relevant terminology such as the terms quartile and percentile.\n",
    "4. Compare the box plot to alternatives."
   ]
  },
  {
   "cell_type": "markdown",
   "metadata": {},
   "source": [
    "# 1. History of the Box Plot and Situations in which it used\n",
    "\n",
    "### 1.1 History of the Box Plot\n",
    "\n",
    "<img src=\"https://www.opensciencedatacloud.org/static/dashboard/img/home/john-tukey-crop.jpg\" alt=\"Drawing\" style=\"width: 800px;\"/>\n",
    "\n",
    "The Box Plot was invented in 1970 by John W Tukey’s as part of his toolkit for exploratory data analysis. Tukey was an American statistician who also introduced the word software to describe programs on which electronic calculators ran and was the first to use the word bit as an abbreviation for binary digit. \n",
    "\n",
    "The Box Plot did not become widely known until formal publication in 1977, however, it has become one of the most frequently used statistical graphics and is one of the few plot types invented in the 20th century that has found widespread adoption.\n",
    "\n",
    "*They are different, but not different enough to matter -- like the maple leaves off the tree in my yard, when all I want to do is rake them up.* Roald Hoffmann, 1981 Nobel Laureate in Chemistry from: The Same and Not the Same\n",
    "\n",
    "As the quote above goes, Tukey's contribution was to think deeply about appropriate summary statistics that worked for a wide range of data and to connect those to the visual components of the range bar culminating in a succinct distributional summary. \n",
    "\n",
    "Today, what we call a boxplot is more closely related to what Tukey called a schematic plot; a box-and-whiskers plot. It consists of: \n",
    "1. A line (vertical or horizontal) extending from the minimum value to the maximum value. \n",
    "2. A box, the end lines of which depict the 25th percentile and the 75th percentile \n",
    "3. A central line within which depicts the median.\n",
    "4. Outliers are plotted as individual data points.\n",
    "\n",
    "As computers have become more prevalent and more powerful, it has become easier to produce compact summaries that display more data and thus the Box Plot has evolved and been adapted. Evolution the of Box Plot:\n",
    "- 1950’s Spear basic graphic box plot with range bar\n",
    "- 1970's Box Plot by American statistician John Wilder Tukey\n",
    "- Variable-width and Notched Box Plots (McGill and Larsen, 1978)\n",
    "- Rangefinder Plot (Becketti and Gould, 1987) mapped to 2D\n",
    "- Vase Plot (Benjamini, 1988), depicting symmetrical display of estimated density rather than a box\n",
    "- HDR Box Plot (Hyndman, 1996)\n",
    "- Violin Plots (Hintze and Nelson, 1998) which are similar to Vase plots but display the density for all data points\n",
    "- Robust Bivariate Boxplot (Zani et al., 1998), uses convex hull peeling to find the central regions\n",
    "- Bagplot, (Rousseuw et al., 1999), also 2D\n",
    "- Rotational Boxplot of Muth et al. (2000) used a circular approach\n",
    "- Midgap Plot (Tufte, 2001) \n",
    "- Raindrop Plot (Barrowman and Myers, 2003)\n",
    "- Box-percentile Plot (Esty and Banfield, 2003)\n",
    "- Letter-value Box Plot (Hofmann et al., 2006) \n",
    "- Sectioned Density Plot (Cohen and Cohen, 2006)\n",
    "- Bean Plot (Kampstra, 2008)\n",
    "- Summary Plot (Potter et al., 2010) \n",
    "- Functional boxplots (Hyndman and Shang, 2010; Sun and Genton, 2011) take the ideas of 2d boxplots and extend them to the infinite-dimensional functional case"
   ]
  },
  {
   "cell_type": "markdown",
   "metadata": {},
   "source": [
    "### 1.2 Situations in which it is used\n",
    "\n",
    "<img src=\"https://dr282zn36sxxg.cloudfront.net/datastreams/f-d%3A76c695b74012b2ac940d6fe7e7d4d082ffa0e626210fa4ce8cdf548e%2BIMAGE%2BIMAGE.1\" alt=\"Drawing\" style=\"width: 500px;\"/>\n",
    "\n",
    "https://www.britannica.com/science/box-and-whisker-plot: The box-and-whisker plot is useful for revealing the central tendency and variability of a data set, the distribution (particularly symmetry or skewness) of the data, and the presence of outliers. It is also a powerful graphical technique for comparing samples from two or more different treatments or populations. \n",
    "\n",
    "Some Implementations of the Boxplot:\n",
    "An increasing number of statistical software packages offer exploratory data displays and summaries. For one of these, the graphical technique known as the boxplot, a selective survey of popular software packages revealed several definitions. These alternative constructions arise from different choices in computing quartiles and the fences that determine whether an observation is “outside” and thus plotted individually. We examine these alternatives and their consequences, discuss related background for boxplots (such as the probability that a sample contains one or more outside observations and the average proportion of outside observations in a sample), and offer recommendations that lead to a single standard form of the boxplot.\n",
    "\n",
    "\n",
    "The next step would be to observe simple descriptive statistics, for example by calculating the mean, standard deviation, range, etc. The command boxplot plots some of those values. \n",
    "\n",
    "http://www.physics.csbsju.edu/stats/box2.html\n",
    "https://en.wikipedia.org/wiki/Five-number_summary\n",
    "\n",
    "“A box plot is a graphical rendition of statistical data based on the minimum, first quartile, median, third quartile, and maximum. The term “box plot” comes from the fact that the graph looks like a rectangle with lines extending from the top and bottom. Because of the extending lines, this type of graph is sometimes called a box-and-whisker plot.”\n",
    "https://happygostacie.wordpress.com/2016/04/24/boxplot-fun-with-python/\n",
    "\n",
    "\n",
    "\n",
    "The best tool to identify the outliers is the box plot.\n",
    "\n",
    "fter you check the distribution of the data by plotting the histogram, the second thing to do is to look for outliers. Identifying the outliers is important because it might happen that an association you find in your analysis can be explained by the presence of outliers.\n",
    "\n",
    "https://www150.statcan.gc.ca/n1/edu/power-pouvoir/ch12/5214889-eng.htm\n",
    "\n",
    "A box and whisker plot (sometimes called a boxplot) is a graph that presents information from a five-number summary. It does not show a distribution in as much detail as a stem and leaf plot or histogram does, but is especially useful for indicating whether a distribution is skewed and whether there are potential unusual observations (outliers) in the data set. Box and whisker plots are also very useful when large numbers of observations are involved and when two or more data sets are being compared. (See the section on five-number summaries for more information.)\n",
    "\n",
    "Box and whisker plots are ideal for comparing distributions because the centre, spread and overall range are immediately apparent.\n",
    "\n",
    "Boxplot is probably one of the most common type of graphic. It gives a nice summary of one or several numeric variables. The line that divides the box into 2 parts represents the median f the data. The end of the box shows the upper and lower quartiles. The extreme lines shows the highest and lowest value excluding outliers. \n",
    "\n",
    "whiskers, hinges and medians"
   ]
  },
  {
   "cell_type": "markdown",
   "metadata": {},
   "source": [
    "# 2. Uses of the Box Plot Using the Iris Data Set"
   ]
  },
  {
   "cell_type": "markdown",
   "metadata": {},
   "source": [
    "http://blog.bharatbhole.com/creating-boxplots-with-matplotlib/\n",
    "http://blog.bharatbhole.com/creating-boxplots-with-matplotlib/\n",
    "https://plot.ly/matplotlib/box-plots/\n",
    "https://stackoverflow.com/questions/44119653/creating-a-boxplot-with-matplotlib\n",
    "https://matplotlib.org/gallery/statistics/boxplot_demo.html\n",
    "https://matplotlib.org/examples/pylab_examples/boxplot_demo.html\n",
    "\n",
    "\n",
    "\n",
    "http://alpha.imag.pub.ro/~rasche/course/patrec/patrec1.pdf: \n",
    "\n",
    "descriptive stats\n",
    "\n",
    "Figure 11: Box plot for the four features (variables) of the\n",
    "famous Iris flower data set. From center to outside: the\n",
    "red marker denotes the median; the edges of the blue box\n",
    "delineate the 25th and 75th percentile; the black markers\n",
    "denote the range without outliers; red plus markers denote\n",
    "points considered outliers. Matlab: boxplot. Python:\n",
    "matplotlib.pyplot.boxplot.\n",
    "Note that the ’spread’ of the data can be very different:\n",
    "the 2nd and 3rd features have very different ranges. That\n",
    "means we might night scaling, otherwise the petal length\n",
    "(3rd feature) might dominate classification.\n",
    "\n",
    "Feature Value Distribution To look at the data in more detail we could then employ histograms (Fig.\n",
    "12). We return to that in the section of density estimation (Section 14). It also merits to check whether the\n",
    "variables co-vary, but we elaborate on that later (Section 6.1).\n",
    "Figure 12: Histograms for the four Iris features.\n",
    "Matlab: hist. Python: matplotlib.pyplot.hist.\n",
    "Note that the distributions look very different. Some\n",
    "appear to be uni-modal (one peak) - the upper row;\n",
    "some appear to be bi-modal (two peaks) - the lower\n",
    "row; or they can be even multi-modal (lower right),\n",
    "though that could also be a distribution with no\n",
    "peaks at all."
   ]
  },
  {
   "cell_type": "markdown",
   "metadata": {},
   "source": [
    "#### What you might expect to find plotting a boxplot from the Iris Data Set: \n",
    "<img src=\"https://shanelynnwebsite-mid9n9g1q9y8tt.netdna-ssl.com/wp-content/uploads/2016/07/boxplot_tableau.png\" alt=\"Drawing\" style=\"width: 500px;\"/>"
   ]
  },
  {
   "cell_type": "code",
   "execution_count": 17,
   "metadata": {},
   "outputs": [],
   "source": [
    "# Import numpy as np\n",
    "import numpy as np\n",
    "\n",
    "# import matplot\n",
    "import matplotlib.pyplot as plt\n",
    "\n",
    "#Use the 'inline' backend, so that the matplotlib graphs are included in notebook, next to the code\n",
    "%matplotlib inline\n",
    "\n",
    "# Import pandas\n",
    "import pandas as pd\n",
    "\n",
    "# import seaborn \n",
    "import seaborn as sns"
   ]
  },
  {
   "cell_type": "code",
   "execution_count": 18,
   "metadata": {},
   "outputs": [],
   "source": [
    "# matplotlib.pyplot.boxplot"
   ]
  },
  {
   "cell_type": "code",
   "execution_count": 19,
   "metadata": {},
   "outputs": [],
   "source": [
    "# Load the iris data set from a URL.\n",
    "df = pd.read_csv(\"https://raw.githubusercontent.com/uiuc-cse/data-fa14/gh-pages/data/iris.csv\")"
   ]
  },
  {
   "cell_type": "code",
   "execution_count": 20,
   "metadata": {},
   "outputs": [
    {
     "data": {
      "text/html": [
       "<div>\n",
       "<style scoped>\n",
       "    .dataframe tbody tr th:only-of-type {\n",
       "        vertical-align: middle;\n",
       "    }\n",
       "\n",
       "    .dataframe tbody tr th {\n",
       "        vertical-align: top;\n",
       "    }\n",
       "\n",
       "    .dataframe thead th {\n",
       "        text-align: right;\n",
       "    }\n",
       "</style>\n",
       "<table border=\"1\" class=\"dataframe\">\n",
       "  <thead>\n",
       "    <tr style=\"text-align: right;\">\n",
       "      <th></th>\n",
       "      <th>sepal_length</th>\n",
       "      <th>sepal_width</th>\n",
       "      <th>petal_length</th>\n",
       "      <th>petal_width</th>\n",
       "      <th>species</th>\n",
       "    </tr>\n",
       "  </thead>\n",
       "  <tbody>\n",
       "    <tr>\n",
       "      <th>0</th>\n",
       "      <td>5.1</td>\n",
       "      <td>3.5</td>\n",
       "      <td>1.4</td>\n",
       "      <td>0.2</td>\n",
       "      <td>setosa</td>\n",
       "    </tr>\n",
       "    <tr>\n",
       "      <th>1</th>\n",
       "      <td>4.9</td>\n",
       "      <td>3.0</td>\n",
       "      <td>1.4</td>\n",
       "      <td>0.2</td>\n",
       "      <td>setosa</td>\n",
       "    </tr>\n",
       "    <tr>\n",
       "      <th>2</th>\n",
       "      <td>4.7</td>\n",
       "      <td>3.2</td>\n",
       "      <td>1.3</td>\n",
       "      <td>0.2</td>\n",
       "      <td>setosa</td>\n",
       "    </tr>\n",
       "    <tr>\n",
       "      <th>3</th>\n",
       "      <td>4.6</td>\n",
       "      <td>3.1</td>\n",
       "      <td>1.5</td>\n",
       "      <td>0.2</td>\n",
       "      <td>setosa</td>\n",
       "    </tr>\n",
       "    <tr>\n",
       "      <th>4</th>\n",
       "      <td>5.0</td>\n",
       "      <td>3.6</td>\n",
       "      <td>1.4</td>\n",
       "      <td>0.2</td>\n",
       "      <td>setosa</td>\n",
       "    </tr>\n",
       "  </tbody>\n",
       "</table>\n",
       "</div>"
      ],
      "text/plain": [
       "   sepal_length  sepal_width  petal_length  petal_width species\n",
       "0           5.1          3.5           1.4          0.2  setosa\n",
       "1           4.9          3.0           1.4          0.2  setosa\n",
       "2           4.7          3.2           1.3          0.2  setosa\n",
       "3           4.6          3.1           1.5          0.2  setosa\n",
       "4           5.0          3.6           1.4          0.2  setosa"
      ]
     },
     "execution_count": 20,
     "metadata": {},
     "output_type": "execute_result"
    }
   ],
   "source": [
    "# check if the link works\n",
    "# prints the first few rows of the iris data set\n",
    "df.head()"
   ]
  },
  {
   "cell_type": "code",
   "execution_count": 36,
   "metadata": {},
   "outputs": [
    {
     "data": {
      "image/png": "[encoded data removed]",
      "text/plain": [
       "<Figure size 432x288 with 1 Axes>"
      ]
     },
     "metadata": {
      "needs_background": "light"
     },
     "output_type": "display_data"
    }
   ],
   "source": [
    "# plot a histogram\n",
    "x = [df.petal_length] \n",
    "plt.hist(x)\n",
    "plt.show()"
   ]
  },
  {
   "cell_type": "code",
   "execution_count": 21,
   "metadata": {},
   "outputs": [
    {
     "data": {
      "image/png": "[encoded data removed]",
      "text/plain": [
       "<Figure size 432x288 with 1 Axes>"
      ]
     },
     "metadata": {
      "needs_background": "light"
     },
     "output_type": "display_data"
    }
   ],
   "source": [
    "plt.boxplot(df.petal_length)\n",
    "plt.show()"
   ]
  },
  {
   "cell_type": "markdown",
   "metadata": {},
   "source": [
    "The mean is the arithmetic average of a set of numbers, or distribution.\t\n",
    "\n",
    "The median as shown in the yellow line above is described as the numeric value separating the higher half of a sample, a population, or a probability distribution, from the lower half."
   ]
  },
  {
   "cell_type": "code",
   "execution_count": 22,
   "metadata": {},
   "outputs": [
    {
     "data": {
      "text/plain": [
       "3.7586666666666693"
      ]
     },
     "execution_count": 22,
     "metadata": {},
     "output_type": "execute_result"
    }
   ],
   "source": [
    "# return means\n",
    "mean = np.mean(df.petal_length)\n",
    "mean"
   ]
  },
  {
   "cell_type": "code",
   "execution_count": 23,
   "metadata": {},
   "outputs": [
    {
     "data": {
      "image/png": "[encoded data removed]",
      "text/plain": [
       "<Figure size 432x288 with 1 Axes>"
      ]
     },
     "metadata": {
      "needs_background": "light"
     },
     "output_type": "display_data"
    }
   ],
   "source": [
    "plt.boxplot(df.sepal_length)\n",
    "plt.show()"
   ]
  },
  {
   "cell_type": "code",
   "execution_count": 24,
   "metadata": {},
   "outputs": [
    {
     "name": "stderr",
     "output_type": "stream",
     "text": [
      "C:\\Users\\user\\Anaconda3\\lib\\site-packages\\scipy\\stats\\stats.py:1713: FutureWarning: Using a non-tuple sequence for multidimensional indexing is deprecated; use `arr[tuple(seq)]` instead of `arr[seq]`. In the future this will be interpreted as an array index, `arr[np.array(seq)]`, which will result either in an error or a different result.\n",
      "  return np.add.reduce(sorted[indexer] * weights, axis=axis) / sumval\n"
     ]
    },
    {
     "data": {
      "text/plain": [
       "[Text(0.5,0,'')]"
      ]
     },
     "execution_count": 24,
     "metadata": {},
     "output_type": "execute_result"
    },
    {
     "data": {
      "image/png": "[encoded data removed]",
      "text/plain": [
       "<Figure size 432x288 with 2 Axes>"
      ]
     },
     "metadata": {
      "needs_background": "light"
     },
     "output_type": "display_data"
    }
   ],
   "source": [
    "# https://python-graph-gallery.com/24-histogram-with-a-boxplot-on-top-seaborn/\n",
    "# Cut the window in 2 parts\n",
    "f, (ax_box, ax_hist) = plt.subplots(2, sharex=True, gridspec_kw={\"height_ratios\": (.15, .85)})\n",
    " \n",
    "# Add a graph in each part\n",
    "sns.boxplot(df[\"sepal_length\"], ax=ax_box)\n",
    "sns.distplot(df[\"sepal_length\"], ax=ax_hist)\n",
    " \n",
    "# Remove x axis name for the boxplot\n",
    "ax_box.set(xlabel='')\n"
   ]
  },
  {
   "cell_type": "code",
   "execution_count": 25,
   "metadata": {},
   "outputs": [
    {
     "data": {
      "text/plain": [
       "<matplotlib.axes._subplots.AxesSubplot at 0xb9c4e10>"
      ]
     },
     "execution_count": 25,
     "metadata": {},
     "output_type": "execute_result"
    },
    {
     "data": {
      "image/png": "[encoded data removed]",
      "text/plain": [
       "<Figure size 432x288 with 1 Axes>"
      ]
     },
     "metadata": {
      "needs_background": "light"
     },
     "output_type": "display_data"
    }
   ],
   "source": [
    "df.boxplot(column='petal_width', by='species')\n"
   ]
  },
  {
   "cell_type": "code",
   "execution_count": 26,
   "metadata": {},
   "outputs": [
    {
     "data": {
      "image/png": "[encoded data removed]",
      "text/plain": [
       "<Figure size 432x288 with 1 Axes>"
      ]
     },
     "metadata": {
      "needs_background": "light"
     },
     "output_type": "display_data"
    }
   ],
   "source": [
    "plt.boxplot(df[\"sepal_length\"])\n",
    "plt.show()"
   ]
  },
  {
   "cell_type": "code",
   "execution_count": 27,
   "metadata": {},
   "outputs": [
    {
     "data": {
      "text/plain": [
       "<matplotlib.axes._subplots.AxesSubplot at 0xb8bec18>"
      ]
     },
     "execution_count": 27,
     "metadata": {},
     "output_type": "execute_result"
    },
    {
     "data": {
      "image/png": "[encoded data removed]",
      "text/plain": [
       "<Figure size 432x288 with 1 Axes>"
      ]
     },
     "metadata": {
      "needs_background": "light"
     },
     "output_type": "display_data"
    }
   ],
   "source": [
    "# library & dataset\n",
    "import seaborn as sns\n",
    "df = sns.load_dataset('iris')\n",
    " \n",
    "# Usual boxplot\n",
    "ax = sns.boxplot(x='species', y='sepal_length', data=df)\n",
    " \n",
    "# Add jitter with the swarmplot function.\n",
    "ax = sns.swarmplot(x='species', y='sepal_length', data=df, color=\"grey\")\n",
    "\n",
    "ax\n"
   ]
  },
  {
   "cell_type": "code",
   "execution_count": 28,
   "metadata": {},
   "outputs": [
    {
     "data": {
      "text/plain": [
       "versicolor    50\n",
       "setosa        50\n",
       "virginica     50\n",
       "Name: species, dtype: int64"
      ]
     },
     "execution_count": 28,
     "metadata": {},
     "output_type": "execute_result"
    }
   ],
   "source": [
    "# check the number of species to see how many box plots you would expect using species\n",
    "df['species'].value_counts()"
   ]
  },
  {
   "cell_type": "code",
   "execution_count": 29,
   "metadata": {},
   "outputs": [
    {
     "data": {
      "image/png": "[encoded data removed]",
      "text/plain": [
       "<Figure size 432x288 with 1 Axes>"
      ]
     },
     "metadata": {
      "needs_background": "light"
     },
     "output_type": "display_data"
    }
   ],
   "source": [
    "# To plot the species data using a box plot:\n",
    "\n",
    "sns.boxplot(x=\"species\", y=\"petal_length\", data=df )\n",
    "plt.show()\n",
    "\n"
   ]
  },
  {
   "cell_type": "code",
   "execution_count": 30,
   "metadata": {},
   "outputs": [],
   "source": [
    "#get slice of data to use in boxplot\n",
    "slice = df.iloc[:,[0, 4]]"
   ]
  },
  {
   "cell_type": "code",
   "execution_count": 31,
   "metadata": {},
   "outputs": [
    {
     "data": {
      "text/html": [
       "<div>\n",
       "<style scoped>\n",
       "    .dataframe tbody tr th:only-of-type {\n",
       "        vertical-align: middle;\n",
       "    }\n",
       "\n",
       "    .dataframe tbody tr th {\n",
       "        vertical-align: top;\n",
       "    }\n",
       "\n",
       "    .dataframe thead th {\n",
       "        text-align: right;\n",
       "    }\n",
       "</style>\n",
       "<table border=\"1\" class=\"dataframe\">\n",
       "  <thead>\n",
       "    <tr style=\"text-align: right;\">\n",
       "      <th></th>\n",
       "      <th>sepal_length</th>\n",
       "      <th>species</th>\n",
       "    </tr>\n",
       "  </thead>\n",
       "  <tbody>\n",
       "    <tr>\n",
       "      <th>0</th>\n",
       "      <td>5.1</td>\n",
       "      <td>setosa</td>\n",
       "    </tr>\n",
       "    <tr>\n",
       "      <th>1</th>\n",
       "      <td>4.9</td>\n",
       "      <td>setosa</td>\n",
       "    </tr>\n",
       "    <tr>\n",
       "      <th>2</th>\n",
       "      <td>4.7</td>\n",
       "      <td>setosa</td>\n",
       "    </tr>\n",
       "    <tr>\n",
       "      <th>3</th>\n",
       "      <td>4.6</td>\n",
       "      <td>setosa</td>\n",
       "    </tr>\n",
       "    <tr>\n",
       "      <th>4</th>\n",
       "      <td>5.0</td>\n",
       "      <td>setosa</td>\n",
       "    </tr>\n",
       "  </tbody>\n",
       "</table>\n",
       "</div>"
      ],
      "text/plain": [
       "   sepal_length species\n",
       "0           5.1  setosa\n",
       "1           4.9  setosa\n",
       "2           4.7  setosa\n",
       "3           4.6  setosa\n",
       "4           5.0  setosa"
      ]
     },
     "execution_count": 31,
     "metadata": {},
     "output_type": "execute_result"
    }
   ],
   "source": [
    "slice.head()"
   ]
  },
  {
   "cell_type": "code",
   "execution_count": 32,
   "metadata": {},
   "outputs": [
    {
     "ename": "TypeError",
     "evalue": "unsupported operand type(s) for /: 'str' and 'int'",
     "output_type": "error",
     "traceback": [
      "\u001b[1;31m---------------------------------------------------------------------------\u001b[0m",
      "\u001b[1;31mTypeError\u001b[0m                                 Traceback (most recent call last)",
      "\u001b[1;32m<ipython-input-32-cb68352dad69>\u001b[0m in \u001b[0;36m<module>\u001b[1;34m()\u001b[0m\n\u001b[0;32m      1\u001b[0m \u001b[1;31m#gives individual boxplot with all step names\u001b[0m\u001b[1;33m\u001b[0m\u001b[1;33m\u001b[0m\u001b[0m\n\u001b[1;32m----> 2\u001b[1;33m \u001b[0mbp\u001b[0m \u001b[1;33m=\u001b[0m \u001b[0mdf\u001b[0m\u001b[1;33m.\u001b[0m\u001b[0mboxplot\u001b[0m\u001b[1;33m(\u001b[0m\u001b[0mcolumn\u001b[0m\u001b[1;33m=\u001b[0m\u001b[1;34m'species'\u001b[0m\u001b[1;33m,\u001b[0m \u001b[0mby\u001b[0m\u001b[1;33m=\u001b[0m\u001b[1;34m'sepal_length'\u001b[0m\u001b[1;33m)\u001b[0m\u001b[1;33m\u001b[0m\u001b[0m\n\u001b[0m\u001b[0;32m      3\u001b[0m \u001b[0maxes\u001b[0m \u001b[1;33m=\u001b[0m \u001b[0mplt\u001b[0m\u001b[1;33m.\u001b[0m\u001b[0mgca\u001b[0m\u001b[1;33m(\u001b[0m\u001b[1;33m)\u001b[0m\u001b[1;33m\u001b[0m\u001b[0m\n\u001b[0;32m      4\u001b[0m \u001b[0maxes\u001b[0m\u001b[1;33m.\u001b[0m\u001b[0mset_ylim\u001b[0m\u001b[1;33m(\u001b[0m\u001b[1;33m[\u001b[0m\u001b[1;36m0\u001b[0m\u001b[1;33m,\u001b[0m\u001b[1;36m15\u001b[0m\u001b[1;33m]\u001b[0m\u001b[1;33m)\u001b[0m\u001b[1;33m\u001b[0m\u001b[0m\n\u001b[0;32m      5\u001b[0m \u001b[0mplt\u001b[0m\u001b[1;33m.\u001b[0m\u001b[0mshow\u001b[0m\u001b[1;33m(\u001b[0m\u001b[1;33m)\u001b[0m\u001b[1;33m\u001b[0m\u001b[0m\n",
      "\u001b[1;32m~\\Anaconda3\\lib\\site-packages\\pandas\\plotting\\_core.py\u001b[0m in \u001b[0;36mboxplot_frame\u001b[1;34m(self, column, by, ax, fontsize, rot, grid, figsize, layout, return_type, **kwds)\u001b[0m\n\u001b[0;32m   2255\u001b[0m     ax = boxplot(self, column=column, by=by, ax=ax, fontsize=fontsize,\n\u001b[0;32m   2256\u001b[0m                  \u001b[0mgrid\u001b[0m\u001b[1;33m=\u001b[0m\u001b[0mgrid\u001b[0m\u001b[1;33m,\u001b[0m \u001b[0mrot\u001b[0m\u001b[1;33m=\u001b[0m\u001b[0mrot\u001b[0m\u001b[1;33m,\u001b[0m \u001b[0mfigsize\u001b[0m\u001b[1;33m=\u001b[0m\u001b[0mfigsize\u001b[0m\u001b[1;33m,\u001b[0m \u001b[0mlayout\u001b[0m\u001b[1;33m=\u001b[0m\u001b[0mlayout\u001b[0m\u001b[1;33m,\u001b[0m\u001b[1;33m\u001b[0m\u001b[0m\n\u001b[1;32m-> 2257\u001b[1;33m                  return_type=return_type, **kwds)\n\u001b[0m\u001b[0;32m   2258\u001b[0m     \u001b[0mplt\u001b[0m\u001b[1;33m.\u001b[0m\u001b[0mdraw_if_interactive\u001b[0m\u001b[1;33m(\u001b[0m\u001b[1;33m)\u001b[0m\u001b[1;33m\u001b[0m\u001b[0m\n\u001b[0;32m   2259\u001b[0m     \u001b[1;32mreturn\u001b[0m \u001b[0max\u001b[0m\u001b[1;33m\u001b[0m\u001b[0m\n",
      "\u001b[1;32m~\\Anaconda3\\lib\\site-packages\\pandas\\plotting\\_core.py\u001b[0m in \u001b[0;36mboxplot\u001b[1;34m(data, column, by, ax, fontsize, rot, grid, figsize, layout, return_type, **kwds)\u001b[0m\n\u001b[0;32m   2224\u001b[0m                                          \u001b[0mby\u001b[0m\u001b[1;33m=\u001b[0m\u001b[0mby\u001b[0m\u001b[1;33m,\u001b[0m \u001b[0mgrid\u001b[0m\u001b[1;33m=\u001b[0m\u001b[0mgrid\u001b[0m\u001b[1;33m,\u001b[0m \u001b[0mfigsize\u001b[0m\u001b[1;33m=\u001b[0m\u001b[0mfigsize\u001b[0m\u001b[1;33m,\u001b[0m\u001b[1;33m\u001b[0m\u001b[0m\n\u001b[0;32m   2225\u001b[0m                                          \u001b[0max\u001b[0m\u001b[1;33m=\u001b[0m\u001b[0max\u001b[0m\u001b[1;33m,\u001b[0m \u001b[0mlayout\u001b[0m\u001b[1;33m=\u001b[0m\u001b[0mlayout\u001b[0m\u001b[1;33m,\u001b[0m\u001b[1;33m\u001b[0m\u001b[0m\n\u001b[1;32m-> 2226\u001b[1;33m                                          return_type=return_type)\n\u001b[0m\u001b[0;32m   2227\u001b[0m     \u001b[1;32melse\u001b[0m\u001b[1;33m:\u001b[0m\u001b[1;33m\u001b[0m\u001b[0m\n\u001b[0;32m   2228\u001b[0m         \u001b[1;32mif\u001b[0m \u001b[0mreturn_type\u001b[0m \u001b[1;32mis\u001b[0m \u001b[1;32mNone\u001b[0m\u001b[1;33m:\u001b[0m\u001b[1;33m\u001b[0m\u001b[0m\n",
      "\u001b[1;32m~\\Anaconda3\\lib\\site-packages\\pandas\\plotting\\_core.py\u001b[0m in \u001b[0;36m_grouped_plot_by_column\u001b[1;34m(plotf, data, columns, by, numeric_only, grid, figsize, ax, layout, return_type, **kwargs)\u001b[0m\n\u001b[0;32m   2681\u001b[0m         \u001b[0mgp_col\u001b[0m \u001b[1;33m=\u001b[0m \u001b[0mgrouped\u001b[0m\u001b[1;33m[\u001b[0m\u001b[0mcol\u001b[0m\u001b[1;33m]\u001b[0m\u001b[1;33m\u001b[0m\u001b[0m\n\u001b[0;32m   2682\u001b[0m         \u001b[0mkeys\u001b[0m\u001b[1;33m,\u001b[0m \u001b[0mvalues\u001b[0m \u001b[1;33m=\u001b[0m \u001b[0mzip\u001b[0m\u001b[1;33m(\u001b[0m\u001b[1;33m*\u001b[0m\u001b[0mgp_col\u001b[0m\u001b[1;33m)\u001b[0m\u001b[1;33m\u001b[0m\u001b[0m\n\u001b[1;32m-> 2683\u001b[1;33m         \u001b[0mre_plotf\u001b[0m \u001b[1;33m=\u001b[0m \u001b[0mplotf\u001b[0m\u001b[1;33m(\u001b[0m\u001b[0mkeys\u001b[0m\u001b[1;33m,\u001b[0m \u001b[0mvalues\u001b[0m\u001b[1;33m,\u001b[0m \u001b[0max\u001b[0m\u001b[1;33m,\u001b[0m \u001b[1;33m**\u001b[0m\u001b[0mkwargs\u001b[0m\u001b[1;33m)\u001b[0m\u001b[1;33m\u001b[0m\u001b[0m\n\u001b[0m\u001b[0;32m   2684\u001b[0m         \u001b[0max\u001b[0m\u001b[1;33m.\u001b[0m\u001b[0mset_title\u001b[0m\u001b[1;33m(\u001b[0m\u001b[0mcol\u001b[0m\u001b[1;33m)\u001b[0m\u001b[1;33m\u001b[0m\u001b[0m\n\u001b[0;32m   2685\u001b[0m         \u001b[0max\u001b[0m\u001b[1;33m.\u001b[0m\u001b[0mset_xlabel\u001b[0m\u001b[1;33m(\u001b[0m\u001b[0mpprint_thing\u001b[0m\u001b[1;33m(\u001b[0m\u001b[0mby\u001b[0m\u001b[1;33m)\u001b[0m\u001b[1;33m)\u001b[0m\u001b[1;33m\u001b[0m\u001b[0m\n",
      "\u001b[1;32m~\\Anaconda3\\lib\\site-packages\\pandas\\plotting\\_core.py\u001b[0m in \u001b[0;36mplot_group\u001b[1;34m(keys, values, ax)\u001b[0m\n\u001b[0;32m   2192\u001b[0m         \u001b[0mkeys\u001b[0m \u001b[1;33m=\u001b[0m \u001b[1;33m[\u001b[0m\u001b[0mpprint_thing\u001b[0m\u001b[1;33m(\u001b[0m\u001b[0mx\u001b[0m\u001b[1;33m)\u001b[0m \u001b[1;32mfor\u001b[0m \u001b[0mx\u001b[0m \u001b[1;32min\u001b[0m \u001b[0mkeys\u001b[0m\u001b[1;33m]\u001b[0m\u001b[1;33m\u001b[0m\u001b[0m\n\u001b[0;32m   2193\u001b[0m         \u001b[0mvalues\u001b[0m \u001b[1;33m=\u001b[0m \u001b[1;33m[\u001b[0m\u001b[0mnp\u001b[0m\u001b[1;33m.\u001b[0m\u001b[0masarray\u001b[0m\u001b[1;33m(\u001b[0m\u001b[0mremove_na_arraylike\u001b[0m\u001b[1;33m(\u001b[0m\u001b[0mv\u001b[0m\u001b[1;33m)\u001b[0m\u001b[1;33m)\u001b[0m \u001b[1;32mfor\u001b[0m \u001b[0mv\u001b[0m \u001b[1;32min\u001b[0m \u001b[0mvalues\u001b[0m\u001b[1;33m]\u001b[0m\u001b[1;33m\u001b[0m\u001b[0m\n\u001b[1;32m-> 2194\u001b[1;33m         \u001b[0mbp\u001b[0m \u001b[1;33m=\u001b[0m \u001b[0max\u001b[0m\u001b[1;33m.\u001b[0m\u001b[0mboxplot\u001b[0m\u001b[1;33m(\u001b[0m\u001b[0mvalues\u001b[0m\u001b[1;33m,\u001b[0m \u001b[1;33m**\u001b[0m\u001b[0mkwds\u001b[0m\u001b[1;33m)\u001b[0m\u001b[1;33m\u001b[0m\u001b[0m\n\u001b[0m\u001b[0;32m   2195\u001b[0m         \u001b[1;32mif\u001b[0m \u001b[0mfontsize\u001b[0m \u001b[1;32mis\u001b[0m \u001b[1;32mnot\u001b[0m \u001b[1;32mNone\u001b[0m\u001b[1;33m:\u001b[0m\u001b[1;33m\u001b[0m\u001b[0m\n\u001b[0;32m   2196\u001b[0m             \u001b[0max\u001b[0m\u001b[1;33m.\u001b[0m\u001b[0mtick_params\u001b[0m\u001b[1;33m(\u001b[0m\u001b[0maxis\u001b[0m\u001b[1;33m=\u001b[0m\u001b[1;34m'both'\u001b[0m\u001b[1;33m,\u001b[0m \u001b[0mlabelsize\u001b[0m\u001b[1;33m=\u001b[0m\u001b[0mfontsize\u001b[0m\u001b[1;33m)\u001b[0m\u001b[1;33m\u001b[0m\u001b[0m\n",
      "\u001b[1;32m~\\Anaconda3\\lib\\site-packages\\matplotlib\\__init__.py\u001b[0m in \u001b[0;36minner\u001b[1;34m(ax, *args, **kwargs)\u001b[0m\n\u001b[0;32m   1865\u001b[0m                         \u001b[1;34m\"the Matplotlib list!)\"\u001b[0m \u001b[1;33m%\u001b[0m \u001b[1;33m(\u001b[0m\u001b[0mlabel_namer\u001b[0m\u001b[1;33m,\u001b[0m \u001b[0mfunc\u001b[0m\u001b[1;33m.\u001b[0m\u001b[0m__name__\u001b[0m\u001b[1;33m)\u001b[0m\u001b[1;33m,\u001b[0m\u001b[1;33m\u001b[0m\u001b[0m\n\u001b[0;32m   1866\u001b[0m                         RuntimeWarning, stacklevel=2)\n\u001b[1;32m-> 1867\u001b[1;33m             \u001b[1;32mreturn\u001b[0m \u001b[0mfunc\u001b[0m\u001b[1;33m(\u001b[0m\u001b[0max\u001b[0m\u001b[1;33m,\u001b[0m \u001b[1;33m*\u001b[0m\u001b[0margs\u001b[0m\u001b[1;33m,\u001b[0m \u001b[1;33m**\u001b[0m\u001b[0mkwargs\u001b[0m\u001b[1;33m)\u001b[0m\u001b[1;33m\u001b[0m\u001b[0m\n\u001b[0m\u001b[0;32m   1868\u001b[0m \u001b[1;33m\u001b[0m\u001b[0m\n\u001b[0;32m   1869\u001b[0m         inner.__doc__ = _add_data_doc(inner.__doc__,\n",
      "\u001b[1;32m~\\Anaconda3\\lib\\site-packages\\matplotlib\\axes\\_axes.py\u001b[0m in \u001b[0;36mboxplot\u001b[1;34m(self, x, notch, sym, vert, whis, positions, widths, patch_artist, bootstrap, usermedians, conf_intervals, meanline, showmeans, showcaps, showbox, showfliers, boxprops, labels, flierprops, medianprops, meanprops, capprops, whiskerprops, manage_xticks, autorange, zorder)\u001b[0m\n\u001b[0;32m   3569\u001b[0m \u001b[1;33m\u001b[0m\u001b[0m\n\u001b[0;32m   3570\u001b[0m         bxpstats = cbook.boxplot_stats(x, whis=whis, bootstrap=bootstrap,\n\u001b[1;32m-> 3571\u001b[1;33m                                        labels=labels, autorange=autorange)\n\u001b[0m\u001b[0;32m   3572\u001b[0m         \u001b[1;32mif\u001b[0m \u001b[0mnotch\u001b[0m \u001b[1;32mis\u001b[0m \u001b[1;32mNone\u001b[0m\u001b[1;33m:\u001b[0m\u001b[1;33m\u001b[0m\u001b[0m\n\u001b[0;32m   3573\u001b[0m             \u001b[0mnotch\u001b[0m \u001b[1;33m=\u001b[0m \u001b[0mrcParams\u001b[0m\u001b[1;33m[\u001b[0m\u001b[1;34m'boxplot.notch'\u001b[0m\u001b[1;33m]\u001b[0m\u001b[1;33m\u001b[0m\u001b[0m\n",
      "\u001b[1;32m~\\Anaconda3\\lib\\site-packages\\matplotlib\\cbook\\__init__.py\u001b[0m in \u001b[0;36mboxplot_stats\u001b[1;34m(X, whis, bootstrap, labels, autorange)\u001b[0m\n\u001b[0;32m   1841\u001b[0m \u001b[1;33m\u001b[0m\u001b[0m\n\u001b[0;32m   1842\u001b[0m         \u001b[1;31m# arithmetic mean\u001b[0m\u001b[1;33m\u001b[0m\u001b[1;33m\u001b[0m\u001b[0m\n\u001b[1;32m-> 1843\u001b[1;33m         \u001b[0mstats\u001b[0m\u001b[1;33m[\u001b[0m\u001b[1;34m'mean'\u001b[0m\u001b[1;33m]\u001b[0m \u001b[1;33m=\u001b[0m \u001b[0mnp\u001b[0m\u001b[1;33m.\u001b[0m\u001b[0mmean\u001b[0m\u001b[1;33m(\u001b[0m\u001b[0mx\u001b[0m\u001b[1;33m)\u001b[0m\u001b[1;33m\u001b[0m\u001b[0m\n\u001b[0m\u001b[0;32m   1844\u001b[0m \u001b[1;33m\u001b[0m\u001b[0m\n\u001b[0;32m   1845\u001b[0m         \u001b[1;31m# medians and quartiles\u001b[0m\u001b[1;33m\u001b[0m\u001b[1;33m\u001b[0m\u001b[0m\n",
      "\u001b[1;32m~\\Anaconda3\\lib\\site-packages\\numpy\\core\\fromnumeric.py\u001b[0m in \u001b[0;36mmean\u001b[1;34m(a, axis, dtype, out, keepdims)\u001b[0m\n\u001b[0;32m   2918\u001b[0m \u001b[1;33m\u001b[0m\u001b[0m\n\u001b[0;32m   2919\u001b[0m     return _methods._mean(a, axis=axis, dtype=dtype,\n\u001b[1;32m-> 2920\u001b[1;33m                           out=out, **kwargs)\n\u001b[0m\u001b[0;32m   2921\u001b[0m \u001b[1;33m\u001b[0m\u001b[0m\n\u001b[0;32m   2922\u001b[0m \u001b[1;33m\u001b[0m\u001b[0m\n",
      "\u001b[1;32m~\\Anaconda3\\lib\\site-packages\\numpy\\core\\_methods.py\u001b[0m in \u001b[0;36m_mean\u001b[1;34m(a, axis, dtype, out, keepdims)\u001b[0m\n\u001b[0;32m     85\u001b[0m             \u001b[0mret\u001b[0m \u001b[1;33m=\u001b[0m \u001b[0mret\u001b[0m\u001b[1;33m.\u001b[0m\u001b[0mdtype\u001b[0m\u001b[1;33m.\u001b[0m\u001b[0mtype\u001b[0m\u001b[1;33m(\u001b[0m\u001b[0mret\u001b[0m \u001b[1;33m/\u001b[0m \u001b[0mrcount\u001b[0m\u001b[1;33m)\u001b[0m\u001b[1;33m\u001b[0m\u001b[0m\n\u001b[0;32m     86\u001b[0m     \u001b[1;32melse\u001b[0m\u001b[1;33m:\u001b[0m\u001b[1;33m\u001b[0m\u001b[0m\n\u001b[1;32m---> 87\u001b[1;33m         \u001b[0mret\u001b[0m \u001b[1;33m=\u001b[0m \u001b[0mret\u001b[0m \u001b[1;33m/\u001b[0m \u001b[0mrcount\u001b[0m\u001b[1;33m\u001b[0m\u001b[0m\n\u001b[0m\u001b[0;32m     88\u001b[0m \u001b[1;33m\u001b[0m\u001b[0m\n\u001b[0;32m     89\u001b[0m     \u001b[1;32mreturn\u001b[0m \u001b[0mret\u001b[0m\u001b[1;33m\u001b[0m\u001b[0m\n",
      "\u001b[1;31mTypeError\u001b[0m: unsupported operand type(s) for /: 'str' and 'int'"
     ]
    },
    {
     "data": {
      "image/png": "[encoded data removed]",
      "text/plain": [
       "<Figure size 432x288 with 1 Axes>"
      ]
     },
     "metadata": {
      "needs_background": "light"
     },
     "output_type": "display_data"
    }
   ],
   "source": [
    "#gives individual boxplot with all step names\n",
    "bp = df.boxplot(column='species', by='sepal_length')\n",
    "axes = plt.gca()\n",
    "axes.set_ylim([0,15])\n",
    "plt.show()"
   ]
  },
  {
   "cell_type": "code",
   "execution_count": null,
   "metadata": {},
   "outputs": [],
   "source": [
    "# Matplotlib boxplot\n",
    "fig = plt.figure(1, figsize=figsize)\n",
    "ax = fig.add_subplot(111)\n",
    "bp = ax.boxplot(dataset)\n",
    "plt_boxplot = plt.boxplot(dataset)\n",
    "plt.title(\"plt_boxplot\")  # plt.boxplot() doesn't support title as keywd arg\n",
    "fig.savefig('plt_boxplot.png')\n",
    "# plt.show()\n",
    "assert not is_grid_on(ax)"
   ]
  },
  {
   "cell_type": "code",
   "execution_count": null,
   "metadata": {},
   "outputs": [],
   "source": [
    "sns.boxplot(x=\"species\", y=\"petal_width\", data=df)\n",
    "sns.boxplot(x=\"species\", y=\"petal_length\", data=df)"
   ]
  },
  {
   "cell_type": "code",
   "execution_count": null,
   "metadata": {},
   "outputs": [],
   "source": [
    "# Draw a boxplot for each numeric variable in a DataFrame:\n",
    "iris = sns.load_dataset(\"iris\")\n",
    "ax = sns.boxplot(data=iris, orient=\"v\", palette=\"Set2\")\n",
    "ax = sns.swarmplot(data=iris, orient=\"v\")"
   ]
  },
  {
   "cell_type": "markdown",
   "metadata": {},
   "source": [
    "Plot X versus Y for the 4no. types of datasets. \n",
    "Also plot the linear regression for each dataset to make conclusions on the line of best fit versus the actual figures of the dataset"
   ]
  },
  {
   "cell_type": "markdown",
   "metadata": {},
   "source": [
    "The dataset can also be loaded directly into Seaborn. Below are adjusted graphics / alternative representation of the datasets. "
   ]
  },
  {
   "cell_type": "code",
   "execution_count": null,
   "metadata": {},
   "outputs": [],
   "source": [
    "# Seaborn conveniently provides the data for Anscombe's quartet.\n",
    "df = sns.load_dataset(\"anscombe\")\n",
    "dset = df.dataset.unique()\n",
    "\n",
    "# Computing basic stats and linear regression all groups.\n",
    "for data in dset:\n",
    "    tmp = df.loc[df.dataset == data]\n",
    "\n",
    "\n",
    "# Setting up params for graphic\n",
    "sns.set(style=\"white\")\n",
    "sns.set_context(\"talk\")\n",
    "sns.despine(left=True)\n",
    "\n",
    "# Plotting\n",
    "catcher = sns.lmplot(\"x\", \"y\", col=\"dataset\", hue=\"dataset\", data=df,\n",
    "           col_wrap=2, ci=None, palette=\"husl\", height=4,\n",
    "           scatter_kws={\"s\": 50, \"alpha\": 0.7}, aspect=1.5)\n",
    "\n",
    "sns.despine()\n",
    "\n",
    "# Saving graphic\n",
    "plt.savefig('quartet.png')"
   ]
  },
  {
   "cell_type": "markdown",
   "metadata": {},
   "source": [
    "### Examining the Distribution\n",
    "\n",
    "a. Minimum value →4\n",
    "\n",
    "Q1→6\n",
    "\n",
    "Median →9\n",
    "\n",
    "Q3→10\n",
    "\n",
    "Maximum value →12\n",
    "\n",
    "The median of the data set is located to the right of the center of the box, which indicates that the distribution is negatively skewed.\n",
    "\n",
    "b. Minimum value →225\n",
    "\n",
    "Q1→250\n",
    "\n",
    "Median →300\n",
    "\n",
    "Q3→325\n",
    "\n",
    "Maximum value →350\n",
    "\n",
    "The median of the data set is located to the right of the center of the box, which indicates that the distribution is negatively skewed.\n",
    "\n",
    "c. Minimum value →60\n",
    "\n",
    "Q1→70\n",
    "\n",
    "Median →75\n",
    "\n",
    "Q3→95\n",
    "\n",
    "Maximum value →100\n",
    "\n",
    "The median of the data set is located to the left of the center of the box, which indicates that the distribution is positively skewed."
   ]
  },
  {
   "cell_type": "markdown",
   "metadata": {},
   "source": [
    "# 3. Terminology\n",
    "\n",
    "<img style=\"float: center;\" src=\"https://dr282zn36sxxg.cloudfront.net/datastreams/f-d%3Ac85d101d220100e34b569a895441f5c1ba672eea0d9f600e201d241c%2BIMAGE_TINY%2BIMAGE_TINY.1\" alt=\"Drawing\" style=\"width: 800px;\"/>\n",
    "\n",
    "<img style=\"float: left;\" src=\"http://www.lac.inpe.br/~rafael.santos/Docs/R/CAP394/resources/interpret_boxplots.png\" alt=\"Drawing\" style=\"width: 400px;\"/>\n",
    "\n",
    "https://www150.statcan.gc.ca/n1/edu/power-pouvoir/ch12/5214889-eng.htm: \n",
    "Carl's highest and lowest sales are both higher than Angela's corresponding sales, and Carl's median sales figure is higher than Angela's. Also, Carl's interquartile range is larger than Angela's.\n",
    "\n",
    "These results suggest that Carl consistently sells more computers than Angela does.\n",
    "\n",
    "\n",
    "There are several ways to describe the centre and spread of a distribution. One way to present this information is with a five-number summary. It uses the median as its centre value and gives a brief picture of the other important distribution values. Another measure of spread uses the mean and standard deviation to decipher the spread of data. This technique, however, is best used with symmetrical distributions with no outliers.\n",
    "\n",
    "Despite this restriction, the mean and standard deviation measures are used more commonly than the five-number summary. The reason for this is that many natural phenomena can be approximately described by a normal distribution. And for normal distributions, the mean and standard deviation are the best measures of centre and spread respectively.\n",
    "\n",
    "Standard deviation takes every value into account, has extremely useful properties when used with a normal distribution, and is mathematically manageable. But the standard deviation is not a good measure of spread in highly skewed distributions and, in these instances, should be supplemented by other measures such as the semi-quartile range.\n",
    "\n",
    "The semi-quartile range is rarely used as a measure of spread, partly because it is not as manageable as others. Still, it is a useful statistic because it is less influenced by extreme values than the standard deviation, is less subject to sampling fluctuations in highly skewed distributions and  is limited to only two values Q1 and Q3. However, it cannot stand alone as a measure of spread."
   ]
  },
  {
   "cell_type": "markdown",
   "metadata": {},
   "source": [
    "## Five Number Summary:\n",
    "Is a set of descriptive statistics that provide information about a dataset. It consists of the five most important sample percentiles:\n",
    "\n",
    "a boxplot is a visual display of a five number summary\n",
    "\n",
    "The box plot is defined by five data-summary values and also shows the outliers. "
   ]
  },
  {
   "cell_type": "markdown",
   "metadata": {},
   "source": [
    "## Minimum:\n",
    "sample minimum\n",
    "small observation"
   ]
  },
  {
   "cell_type": "markdown",
   "metadata": {},
   "source": [
    "## First Quartile:\n",
    "lower quartile"
   ]
  },
  {
   "cell_type": "markdown",
   "metadata": {},
   "source": [
    "## Median:\n",
    "middle value\n",
    "\n",
    "Median and Box\n",
    "The box portion of the box plot is defined by two lines at the 25th percentile and 75th percentile. The 25th\n",
    "percentile is the value at which 25% of the data values are below this value. Thus, the middle 50% of the data\n",
    "values fall between the 25th percentile and the 75th percentile. The distance between the upper (75th percentile) and\n",
    "lower (25th percentile) lines of the box is called the inter-quartile range (IQR). IQR is a popular measure of\n",
    "spread.\n",
    "A line is drawn inside the box at the median (the 50th percentile). The median is a popular measure of the\n",
    "variable’s location (center). \n"
   ]
  },
  {
   "cell_type": "markdown",
   "metadata": {},
   "source": [
    "## Third Quartile:\n",
    "upper quartile"
   ]
  },
  {
   "cell_type": "markdown",
   "metadata": {},
   "source": [
    "## Maximum:\n",
    "sample maximum \n",
    "largest observation"
   ]
  },
  {
   "cell_type": "markdown",
   "metadata": {},
   "source": [
    "## Interquartile Range\n",
    "\n",
    "Boundaries using the Inter-Quartile Range (IQR)\n",
    "This is the traditional method for determining the boundaries. In this method, the whisker boundary is found by\n",
    "multiplying a value (usually 1.5) times the IQR, and then going out that distance from the edge of the box. The\n",
    "whisker boundary is then brought back in to the first data value that is reached. In technical terms (for the upper\n",
    "whisker boundary), it is the largest observation that is less than or equal to the upper edge of the box plus the\n",
    "multiplier times IQR.\n",
    "The severe outlier boundary is defined similarly, but the multiplier is larger (usually 3)."
   ]
  },
  {
   "cell_type": "markdown",
   "metadata": {},
   "source": [
    "## Outlier"
   ]
  },
  {
   "cell_type": "markdown",
   "metadata": {},
   "source": [
    "## Univariate: \n",
    "Refers to an expression, equation, function or polynomial of only one variable\n",
    "\n",
    "\n",
    "that can be measured on an ordinal, interval or ratio scale\n",
    "\n",
    "A box plot is constructed from a numeric variable. A second variable may be used to divide the first variable into\n",
    "groups (e.g., age group or gender). In the two-factor procedure, a third variable may be used to divide the groups\n",
    "into subgroups."
   ]
  },
  {
   "cell_type": "markdown",
   "metadata": {},
   "source": [
    "Whisker and Outlier Boundaries\n",
    "A box plot whisker is a line that goes out from the box to the whisker boundaries. Often a crossbar line is drawn\n",
    "at the whisker boundary. Points outside the whisker boundaries are considered outliers. An additional boundary is\n",
    "sometimes used for severe outliers, although there is no line drawn at the severe outlier boundaries.\n",
    "In NCSS there are two ways to define these boundaries. One way uses a multiplier of the inter-quartile range. The\n",
    "other uses percentiles."
   ]
  },
  {
   "cell_type": "markdown",
   "metadata": {},
   "source": [
    "Boundaries using Percentiles\n",
    "The whisker boundary may also be defined in terms of percentiles, similarly to the edges of the box. For example,\n",
    "the two whisker boundaries might be the 10th percentile and 90th percentile (or 5th and 95th).\n",
    "The severe outlier boundaries might be the 1st and 99th percentiles, for example."
   ]
  },
  {
   "cell_type": "markdown",
   "metadata": {},
   "source": [
    "The above model of a box-and-whisker plot shows 2 horizontal lines (the whiskers) that each contain 25% of the data and are of the same length. In addition, it shows that the median of the data set is in the middle of the box, which contains 50% of the data. The lengths of the whiskers and the location of the median with respect to the center of the box are used to describe the distribution of the data. It's important to note that this is just an example. Not all box-and-whisker plots have the median in the middle of the box and whiskers of the same size.\n",
    "\n",
    "Information about the data set that can be determined from the box-and-whisker plot with respect to the location of the median includes the following:\n",
    "\n",
    "a. If the median is located in the center or near the center of the box, the distribution is approximately symmetric.\n",
    "\n",
    "b. If the median is located to the left of the center of the box, the distribution is positively skewed.\n",
    "\n",
    "c. If the median is located to the right of the center of the box, the distribution is negatively skewed.\n",
    "\n",
    "Information about the data set that can be determined from the box-and-whisker plot with respect to the length of the whiskers includes the following:\n",
    "\n",
    "a. If the whiskers are the same or almost the same length, the distribution is approximately symmetric.\n",
    "\n",
    "b. If the right whisker is longer than the left whisker, the distribution is positively skewed.\n",
    "\n",
    "c. If the left whisker is longer than the right whisker, the distribution is negatively skewed.\n",
    "\n",
    "The length of the whiskers also gives you information about how spread out the data is.\n",
    "\n",
    "A box-and-whisker plot is often used when the number of data values is large. The center of the distribution, the nature of the distribution, and the range of the data are very obvious from the graph. The five-number summary divides the data into quarters by use of the medians of the upper and lower halves of the data. Many data sets contain values that are either extremely high values or extremely low values compared to the rest of the data values. These values are called outliers. There are several reasons why a data set may contain an outlier. Some of these are listed below:\n",
    "\n",
    "The value may be the result of an error made in measurement or in observation. The researcher may have measured the variable incorrectly.\n",
    "The value may simply be an error made by the researcher in recording the value. The value may have been written or typed incorrectly.\n",
    "The value could be a result obtained from a subject not within the defined population. A researcher recording marks from a math 12 examination may have recorded a mark by a student in grade 11 who was taking math 12.\n",
    "The value could be one that is legitimate but is extreme compared to the other values in the data set. (This rarely occurs, but it is a possibility.)\n",
    "If an outlier is present because of an error in measurement, observation, or recording, then either the error should be corrected, or the outlier should be omitted from the data set. If the outlier is a legitimate value, then the statistician must make a decision as to whether or not to include it in the set of data values. There is no rule that tells you what to do with an outlier in this case.\n",
    "\n",
    "One method for checking a data set for the presence of an outlier is to follow the procedure below:\n",
    "\n",
    "Organize the given data set and determine the values of Q1 and Q3.\n",
    "Calculate the difference between Q1 and Q3. This difference is called the interquartile range (IQR): IQR=Q3−Q1.\n",
    "Multiply the difference by 1.5, subtract this result from Q1, and add it to Q3.\n",
    "The results from Step 3 will be the range into which all values of the data set should fit. Any values that are below or above this range are considered outliers."
   ]
  },
  {
   "cell_type": "markdown",
   "metadata": {},
   "source": [
    "## have you forgotten anything????\n",
    "box-and-whisker plot\tA box-and-whisker plot is a graph based upon medians. It shows the minimum value, the lower median, the median, the upper median, and the maximum value of a data set. It is also known as a box plot.\n",
    "five-number summary\tThe numbers needed to construct a box-and-whisker plot are called the five-number summary. The five-number summary are: the minimum value, Q1, the median, Q2, and the maximum value.\n",
    "Extremes\tThe extremes are the maximum and minimum values in a data set.\n",
    "five point summary\tThe numbers needed to construct a box-and-whisker plot are called the five-point-summary. The five points are the minimum, the lower median (Q1), the median, the upper median (Q3), and the maximum.\n",
    "line of fit\tA line of fit is a straight or continuously curved line representing the trend of changes in the comparison of two data sets (or one set of bivariate data).\n",
    "Median\tThe median of a data set is the middle value of an organized data set.\n",
    "observed data\tObserved data are the values that result from computations performed on the input variable.\n",
    "Outlier\tIn statistics, an outlier is a data value that is far from other data values.\n",
    "Quartile\tA quartile is each of four equal groups that a data set can be divided into.\n",
    "skewed\tAs with the horizontal skewing of a histogram, stem plots with a obvious skew toward one end or the other tend to indicate an increased number of outliers either lesser than or greater than the mode.\n",
    "statistical correlation\tStatistical correlation is a representation of possible related changes in values between the two sets of data.\n",
    "trends\tTrends in data sets or samples are indicators found by reviewing the data from a general or overall standpoint\n",
    "uniform\tA uniform shaped histogram indicates data that is very consistent; the frequency of each class is very similar to that of the others."
   ]
  },
  {
   "cell_type": "markdown",
   "metadata": {},
   "source": [
    "• the median,\n",
    "• two hinges, the upper and lower fourths (quartiles),\n",
    "• the data values adjacent to the upper and lower fences, which lie 1.5 times the inter-fourth range from\n",
    "the median,\n",
    "• two whiskers that connect the hinges to the fences, and\n",
    "• (potential) out-liers, individual points further away from the median than the extremes."
   ]
  },
  {
   "cell_type": "code",
   "execution_count": null,
   "metadata": {},
   "outputs": [],
   "source": [
    "# describe what is going on across all datasets for x and y\n",
    "df.describe()"
   ]
  },
  {
   "cell_type": "markdown",
   "metadata": {},
   "source": [
    "Each dataset has the same mean, median, standard deviation, and correlation coefficient between x and y."
   ]
  },
  {
   "cell_type": "markdown",
   "metadata": {},
   "source": [
    "# 4. Comparing the Box Plot to Other Plots\n",
    "\n",
    "Note that boxplot hide the number of values existing behind the variable. Thus, it is highly advised to print the number of observation, add unique observation with jitter or use a violinplot if you have many observations."
   ]
  },
  {
   "cell_type": "markdown",
   "metadata": {},
   "source": [
    "The first variation to display a density estimate was the vase plot (Benjamini, 1988), where the box is\n",
    "replaced with a symmetrical display of estimated density. Violin plots (Hintze and Nelson, 1998) are very\n",
    "similar, but display the density for all data points, not just the middle half. The bean plot (Kampstra, 2008)\n",
    "is a further enhancement that adds a rug that showing every value and a line that shows the mean. The\n",
    "name is inspired by the appearance of the plot: the shape of the density looks like the outside of a bean pod, and the rug plot looks like the seeds within. Kampstra (2008) also suggests a way of comparing two\n",
    "groups more easily: use the left and right sides of the bean to display different distributions. A related idea\n",
    "is the raindrop plot (Barrowman and Myers, 2003), but its focus is on the display of error distributions from\n",
    "complex models.\n",
    "Figure 4: From left to right: box plot, vase plot, violin plot and bean plot. Within each plot, the distributions from left to\n",
    "right are: standard normal (n), right-skewed (s), leptikurtic (k), and bimodal (mm)."
   ]
  },
  {
   "cell_type": "code",
   "execution_count": null,
   "metadata": {},
   "outputs": [],
   "source": [
    "sns.violinplot(x=\"species\", y=\"petal_width\", data=df, size=6)\n",
    "\n",
    "# The data set can also be loaded directly Load the example dataset for Anscombe's quartet for seaborn\n",
    "df = sns.load_dataset(\"anscombe\")\n",
    "\n",
    "sns.set(style=\"whitegrid\")\n",
    "\n",
    "# Show the results of a linear regression within each dataset\n",
    "sns.lmplot(x=\"x\", y=\"y\", col=\"dataset\", hue=\"dataset\", data=df,\n",
    "           col_wrap=2, ci=None, palette=\"muted\", height=4,\n",
    "           scatter_kws={\"s\": 50, \"alpha\": 1})\n",
    "plt.show()"
   ]
  },
  {
   "cell_type": "markdown",
   "metadata": {},
   "source": [
    "https://www.forbes.com/sites/naomirobbins/2012/01/10/comparing-distributions-with-box-plots/\n",
    "\n",
    "https://www.forbes.com/sites/naomirobbins/2012/01/10/comparing-distributions-with-box-plots/#351694062c2c\n",
    "\n",
    "histogram, violin, density"
   ]
  },
  {
   "cell_type": "markdown",
   "metadata": {},
   "source": [
    "The descriptive statistics of the variables in the dataset show that for any one of the four given datasets: \n",
    "- The x and y values as well as the models appear to be identical\n",
    "- The mean of all x values is 9 \n",
    "- The standard deviation of all x values is 3.316625\n",
    "- The mean of all y values is 7.5\n",
    "- The standard deviation of all y values is 2.03. \n",
    "- The correlation between x and y in all four pairs is 0.816 and the linaer regression equations are all y = 3 + 0.5x.\n",
    "\n",
    "This would suggest that the sets are similar, however, when we examine the plots (as described in Section 2), we can see that the four plots of x and y are very different. \n",
    "\n",
    "Anscombe’s Quartet shows:\n",
    "- The importance of data visualisation in data analysis. Without data visualization, statistics alone could be misleading. \n",
    "- How data visualisation can help up make initial judgements on relationships between variables before conducting statistic calculations\n",
    "- The effect of outliers on statistical properties\n",
    "\n",
    "Ancombe felt that a computer should make both calculations and graphs. Both sorts of output should be studied; each will contribute to understanding.\n",
    " \n"
   ]
  },
  {
   "cell_type": "markdown",
   "metadata": {},
   "source": [
    "# References \n",
    "\n",
    "https://matplotlib.org/api/_as_gen/matplotlib.pyplot.boxplot.html\n",
    "***\n",
    "https://en.wikipedia.org/wiki/Box_plot\n",
    "***\n",
    "https://stat.ethz.ch/R-manual/R-devel/library/grDevices/html/boxplot.stats.html\n",
    "***\n",
    "https://www.tandfonline.com/doi/abs/10.1080/00031305.1989.10475612\n",
    "***\n",
    "http://vita.had.co.nz/papers/boxplots.pdf\n",
    "***\n",
    "https://matplotlib.org/gallery/statistics/boxplot_demo.html\n",
    "***\n",
    "https://matplotlib.org/examples/pylab_examples/boxplot_demo.html\n",
    "***\n",
    "http://www.physics.csbsju.edu/stats/box2.html\n",
    "***\n",
    "https://en.wikipedia.org/wiki/Five-number_summary\n",
    "***\n",
    "https://www.itl.nist.gov/div898/handbook/eda/section3/boxplot.htm\n",
    "***\n",
    "https://happygostacie.wordpress.com/2016/04/24/boxplot-fun-with-python/\n",
    "***\n",
    "https://digibio.blogspot.com/2016/09/box-plots-and-connect-by-median.html\n",
    "***\n",
    "https://www.kaggle.com/kmuvunyi/iris-data-visualization\n",
    "***\n",
    "http://python-graph-gallery.com/boxplot/\n",
    "***\n",
    "https://www150.statcan.gc.ca/n1/edu/power-pouvoir/ch12/5214889-eng.htm"
   ]
  },
  {
   "cell_type": "markdown",
   "metadata": {},
   "source": [
    "# End"
   ]
  }
 ],
 "metadata": {
  "kernelspec": {
   "display_name": "Python 3",
   "language": "python",
   "name": "python3"
  },
  "language_info": {
   "codemirror_mode": {
    "name": "ipython",
    "version": 3
   },
   "file_extension": ".py",
   "mimetype": "text/x-python",
   "name": "python",
   "nbconvert_exporter": "python",
   "pygments_lexer": "ipython3",
   "version": "3.7.0"
  }
 },
 "nbformat": 4,
 "nbformat_minor": 2
}
